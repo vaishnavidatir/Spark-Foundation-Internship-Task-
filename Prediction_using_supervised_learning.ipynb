{
  "nbformat": 4,
  "nbformat_minor": 0,
  "metadata": {
    "colab": {
      "name": "Prediction_using_supervised_learning.ipynb",
      "provenance": [],
      "collapsed_sections": [],
      "authorship_tag": "ABX9TyPlu/e4w6ruVRBoA5yOY+q6",
      "include_colab_link": true
    },
    "kernelspec": {
      "display_name": "Python 3",
      "name": "python3"
    },
    "language_info": {
      "name": "python"
    }
  },
  "cells": [
    {
      "cell_type": "markdown",
      "metadata": {
        "id": "view-in-github",
        "colab_type": "text"
      },
      "source": [
        "<a href=\"https://colab.research.google.com/github/vaishnavidatir/Spark-Foundation-Internship-Task-/blob/main/Prediction_using_supervised_learning.ipynb\" target=\"_parent\"><img src=\"https://colab.research.google.com/assets/colab-badge.svg\" alt=\"Open In Colab\"/></a>"
      ]
    },
    {
      "cell_type": "markdown",
      "metadata": {
        "id": "RwvxQ4dwoIv-"
      },
      "source": [
        "#Spark Foundation : GRIP (October 2021)\n",
        "###Author : Vaishnavi Datir (Data Science & Business Analytics Intern)\n",
        "### Task1: Prediction Using supervised Learning"
      ]
    },
    {
      "cell_type": "markdown",
      "metadata": {
        "id": "AchgQLbToGTn"
      },
      "source": [
        "![spark foundation.png](data:image/png;base64,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)"
      ]
    },
    {
      "cell_type": "markdown",
      "metadata": {
        "id": "sAjS3iPxqgJ-"
      },
      "source": [
        "# Task 1 \n",
        "Objective:  Predicting Score/percentage of student based on number of study hours and score for student who studies 9.2 hour/day"
      ]
    },
    {
      "cell_type": "markdown",
      "metadata": {
        "id": "uab-VWllgOWx"
      },
      "source": [
        "# Importing required libraries"
      ]
    },
    {
      "cell_type": "code",
      "metadata": {
        "id": "UNEo3HiLgtCb"
      },
      "source": [
        "#Load necessary libraries\n",
        "import numpy as np\n",
        "import pandas as pd\n",
        "import matplotlib.pyplot as plt\n",
        "% matplotlib inline\n"
      ],
      "execution_count": null,
      "outputs": []
    },
    {
      "cell_type": "markdown",
      "metadata": {
        "id": "qmR3YzT8j7k-"
      },
      "source": [
        "# Loading and Reading Dataset"
      ]
    },
    {
      "cell_type": "code",
      "metadata": {
        "id": "NcJ-okgij6V-"
      },
      "source": [
        "url = \"http://bit.ly/w-data\"\n",
        "mydata = pd.read_csv(url)"
      ],
      "execution_count": null,
      "outputs": []
    },
    {
      "cell_type": "code",
      "metadata": {
        "id": "ix9vYO45MUAT",
        "colab": {
          "base_uri": "https://localhost:8080/",
          "height": 819
        },
        "outputId": "40fc48bb-f891-4a43-d65a-d96546ac384d"
      },
      "source": [
        "mydata"
      ],
      "execution_count": null,
      "outputs": [
        {
          "output_type": "execute_result",
          "data": {
            "text/html": [
              "<div>\n",
              "<style scoped>\n",
              "    .dataframe tbody tr th:only-of-type {\n",
              "        vertical-align: middle;\n",
              "    }\n",
              "\n",
              "    .dataframe tbody tr th {\n",
              "        vertical-align: top;\n",
              "    }\n",
              "\n",
              "    .dataframe thead th {\n",
              "        text-align: right;\n",
              "    }\n",
              "</style>\n",
              "<table border=\"1\" class=\"dataframe\">\n",
              "  <thead>\n",
              "    <tr style=\"text-align: right;\">\n",
              "      <th></th>\n",
              "      <th>Hours</th>\n",
              "      <th>Scores</th>\n",
              "    </tr>\n",
              "  </thead>\n",
              "  <tbody>\n",
              "    <tr>\n",
              "      <th>0</th>\n",
              "      <td>2.5</td>\n",
              "      <td>21</td>\n",
              "    </tr>\n",
              "    <tr>\n",
              "      <th>1</th>\n",
              "      <td>5.1</td>\n",
              "      <td>47</td>\n",
              "    </tr>\n",
              "    <tr>\n",
              "      <th>2</th>\n",
              "      <td>3.2</td>\n",
              "      <td>27</td>\n",
              "    </tr>\n",
              "    <tr>\n",
              "      <th>3</th>\n",
              "      <td>8.5</td>\n",
              "      <td>75</td>\n",
              "    </tr>\n",
              "    <tr>\n",
              "      <th>4</th>\n",
              "      <td>3.5</td>\n",
              "      <td>30</td>\n",
              "    </tr>\n",
              "    <tr>\n",
              "      <th>5</th>\n",
              "      <td>1.5</td>\n",
              "      <td>20</td>\n",
              "    </tr>\n",
              "    <tr>\n",
              "      <th>6</th>\n",
              "      <td>9.2</td>\n",
              "      <td>88</td>\n",
              "    </tr>\n",
              "    <tr>\n",
              "      <th>7</th>\n",
              "      <td>5.5</td>\n",
              "      <td>60</td>\n",
              "    </tr>\n",
              "    <tr>\n",
              "      <th>8</th>\n",
              "      <td>8.3</td>\n",
              "      <td>81</td>\n",
              "    </tr>\n",
              "    <tr>\n",
              "      <th>9</th>\n",
              "      <td>2.7</td>\n",
              "      <td>25</td>\n",
              "    </tr>\n",
              "    <tr>\n",
              "      <th>10</th>\n",
              "      <td>7.7</td>\n",
              "      <td>85</td>\n",
              "    </tr>\n",
              "    <tr>\n",
              "      <th>11</th>\n",
              "      <td>5.9</td>\n",
              "      <td>62</td>\n",
              "    </tr>\n",
              "    <tr>\n",
              "      <th>12</th>\n",
              "      <td>4.5</td>\n",
              "      <td>41</td>\n",
              "    </tr>\n",
              "    <tr>\n",
              "      <th>13</th>\n",
              "      <td>3.3</td>\n",
              "      <td>42</td>\n",
              "    </tr>\n",
              "    <tr>\n",
              "      <th>14</th>\n",
              "      <td>1.1</td>\n",
              "      <td>17</td>\n",
              "    </tr>\n",
              "    <tr>\n",
              "      <th>15</th>\n",
              "      <td>8.9</td>\n",
              "      <td>95</td>\n",
              "    </tr>\n",
              "    <tr>\n",
              "      <th>16</th>\n",
              "      <td>2.5</td>\n",
              "      <td>30</td>\n",
              "    </tr>\n",
              "    <tr>\n",
              "      <th>17</th>\n",
              "      <td>1.9</td>\n",
              "      <td>24</td>\n",
              "    </tr>\n",
              "    <tr>\n",
              "      <th>18</th>\n",
              "      <td>6.1</td>\n",
              "      <td>67</td>\n",
              "    </tr>\n",
              "    <tr>\n",
              "      <th>19</th>\n",
              "      <td>7.4</td>\n",
              "      <td>69</td>\n",
              "    </tr>\n",
              "    <tr>\n",
              "      <th>20</th>\n",
              "      <td>2.7</td>\n",
              "      <td>30</td>\n",
              "    </tr>\n",
              "    <tr>\n",
              "      <th>21</th>\n",
              "      <td>4.8</td>\n",
              "      <td>54</td>\n",
              "    </tr>\n",
              "    <tr>\n",
              "      <th>22</th>\n",
              "      <td>3.8</td>\n",
              "      <td>35</td>\n",
              "    </tr>\n",
              "    <tr>\n",
              "      <th>23</th>\n",
              "      <td>6.9</td>\n",
              "      <td>76</td>\n",
              "    </tr>\n",
              "    <tr>\n",
              "      <th>24</th>\n",
              "      <td>7.8</td>\n",
              "      <td>86</td>\n",
              "    </tr>\n",
              "  </tbody>\n",
              "</table>\n",
              "</div>"
            ],
            "text/plain": [
              "    Hours  Scores\n",
              "0     2.5      21\n",
              "1     5.1      47\n",
              "2     3.2      27\n",
              "3     8.5      75\n",
              "4     3.5      30\n",
              "5     1.5      20\n",
              "6     9.2      88\n",
              "7     5.5      60\n",
              "8     8.3      81\n",
              "9     2.7      25\n",
              "10    7.7      85\n",
              "11    5.9      62\n",
              "12    4.5      41\n",
              "13    3.3      42\n",
              "14    1.1      17\n",
              "15    8.9      95\n",
              "16    2.5      30\n",
              "17    1.9      24\n",
              "18    6.1      67\n",
              "19    7.4      69\n",
              "20    2.7      30\n",
              "21    4.8      54\n",
              "22    3.8      35\n",
              "23    6.9      76\n",
              "24    7.8      86"
            ]
          },
          "metadata": {},
          "execution_count": 3
        }
      ]
    },
    {
      "cell_type": "markdown",
      "metadata": {
        "id": "Vft4tzR7neTX"
      },
      "source": [
        "# Summarising Data"
      ]
    },
    {
      "cell_type": "code",
      "metadata": {
        "id": "4EDNQsMCMdTe",
        "colab": {
          "base_uri": "https://localhost:8080/"
        },
        "outputId": "e45d9edb-e2b9-472d-d9e1-4651880f0b31"
      },
      "source": [
        "mydata.shape"
      ],
      "execution_count": null,
      "outputs": [
        {
          "output_type": "execute_result",
          "data": {
            "text/plain": [
              "(25, 2)"
            ]
          },
          "metadata": {},
          "execution_count": 4
        }
      ]
    },
    {
      "cell_type": "code",
      "metadata": {
        "id": "fMHXP1LCMiCO",
        "colab": {
          "base_uri": "https://localhost:8080/"
        },
        "outputId": "daba94c2-dd59-479f-c535-cf627a487824"
      },
      "source": [
        "mydata.dtypes"
      ],
      "execution_count": null,
      "outputs": [
        {
          "output_type": "execute_result",
          "data": {
            "text/plain": [
              "Hours     float64\n",
              "Scores      int64\n",
              "dtype: object"
            ]
          },
          "metadata": {},
          "execution_count": 5
        }
      ]
    },
    {
      "cell_type": "code",
      "metadata": {
        "id": "yJrThzLMnlWQ",
        "colab": {
          "base_uri": "https://localhost:8080/",
          "height": 203
        },
        "outputId": "885881ce-c83a-4adb-f673-1188a154979b"
      },
      "source": [
        "mydata.head()"
      ],
      "execution_count": null,
      "outputs": [
        {
          "output_type": "execute_result",
          "data": {
            "text/html": [
              "<div>\n",
              "<style scoped>\n",
              "    .dataframe tbody tr th:only-of-type {\n",
              "        vertical-align: middle;\n",
              "    }\n",
              "\n",
              "    .dataframe tbody tr th {\n",
              "        vertical-align: top;\n",
              "    }\n",
              "\n",
              "    .dataframe thead th {\n",
              "        text-align: right;\n",
              "    }\n",
              "</style>\n",
              "<table border=\"1\" class=\"dataframe\">\n",
              "  <thead>\n",
              "    <tr style=\"text-align: right;\">\n",
              "      <th></th>\n",
              "      <th>Hours</th>\n",
              "      <th>Scores</th>\n",
              "    </tr>\n",
              "  </thead>\n",
              "  <tbody>\n",
              "    <tr>\n",
              "      <th>0</th>\n",
              "      <td>2.5</td>\n",
              "      <td>21</td>\n",
              "    </tr>\n",
              "    <tr>\n",
              "      <th>1</th>\n",
              "      <td>5.1</td>\n",
              "      <td>47</td>\n",
              "    </tr>\n",
              "    <tr>\n",
              "      <th>2</th>\n",
              "      <td>3.2</td>\n",
              "      <td>27</td>\n",
              "    </tr>\n",
              "    <tr>\n",
              "      <th>3</th>\n",
              "      <td>8.5</td>\n",
              "      <td>75</td>\n",
              "    </tr>\n",
              "    <tr>\n",
              "      <th>4</th>\n",
              "      <td>3.5</td>\n",
              "      <td>30</td>\n",
              "    </tr>\n",
              "  </tbody>\n",
              "</table>\n",
              "</div>"
            ],
            "text/plain": [
              "   Hours  Scores\n",
              "0    2.5      21\n",
              "1    5.1      47\n",
              "2    3.2      27\n",
              "3    8.5      75\n",
              "4    3.5      30"
            ]
          },
          "metadata": {},
          "execution_count": 6
        }
      ]
    },
    {
      "cell_type": "code",
      "metadata": {
        "id": "gmJxQYQWnxBN",
        "colab": {
          "base_uri": "https://localhost:8080/",
          "height": 295
        },
        "outputId": "720485c0-f263-4229-cef4-ab338ebdb089"
      },
      "source": [
        "mydata.describe(include=\"all\")"
      ],
      "execution_count": null,
      "outputs": [
        {
          "output_type": "execute_result",
          "data": {
            "text/html": [
              "<div>\n",
              "<style scoped>\n",
              "    .dataframe tbody tr th:only-of-type {\n",
              "        vertical-align: middle;\n",
              "    }\n",
              "\n",
              "    .dataframe tbody tr th {\n",
              "        vertical-align: top;\n",
              "    }\n",
              "\n",
              "    .dataframe thead th {\n",
              "        text-align: right;\n",
              "    }\n",
              "</style>\n",
              "<table border=\"1\" class=\"dataframe\">\n",
              "  <thead>\n",
              "    <tr style=\"text-align: right;\">\n",
              "      <th></th>\n",
              "      <th>Hours</th>\n",
              "      <th>Scores</th>\n",
              "    </tr>\n",
              "  </thead>\n",
              "  <tbody>\n",
              "    <tr>\n",
              "      <th>count</th>\n",
              "      <td>25.000000</td>\n",
              "      <td>25.000000</td>\n",
              "    </tr>\n",
              "    <tr>\n",
              "      <th>mean</th>\n",
              "      <td>5.012000</td>\n",
              "      <td>51.480000</td>\n",
              "    </tr>\n",
              "    <tr>\n",
              "      <th>std</th>\n",
              "      <td>2.525094</td>\n",
              "      <td>25.286887</td>\n",
              "    </tr>\n",
              "    <tr>\n",
              "      <th>min</th>\n",
              "      <td>1.100000</td>\n",
              "      <td>17.000000</td>\n",
              "    </tr>\n",
              "    <tr>\n",
              "      <th>25%</th>\n",
              "      <td>2.700000</td>\n",
              "      <td>30.000000</td>\n",
              "    </tr>\n",
              "    <tr>\n",
              "      <th>50%</th>\n",
              "      <td>4.800000</td>\n",
              "      <td>47.000000</td>\n",
              "    </tr>\n",
              "    <tr>\n",
              "      <th>75%</th>\n",
              "      <td>7.400000</td>\n",
              "      <td>75.000000</td>\n",
              "    </tr>\n",
              "    <tr>\n",
              "      <th>max</th>\n",
              "      <td>9.200000</td>\n",
              "      <td>95.000000</td>\n",
              "    </tr>\n",
              "  </tbody>\n",
              "</table>\n",
              "</div>"
            ],
            "text/plain": [
              "           Hours     Scores\n",
              "count  25.000000  25.000000\n",
              "mean    5.012000  51.480000\n",
              "std     2.525094  25.286887\n",
              "min     1.100000  17.000000\n",
              "25%     2.700000  30.000000\n",
              "50%     4.800000  47.000000\n",
              "75%     7.400000  75.000000\n",
              "max     9.200000  95.000000"
            ]
          },
          "metadata": {},
          "execution_count": 7
        }
      ]
    },
    {
      "cell_type": "code",
      "metadata": {
        "id": "WJS_Kr0co-bP",
        "colab": {
          "base_uri": "https://localhost:8080/"
        },
        "outputId": "984ec17f-7965-420a-de10-c64c7e683701"
      },
      "source": [
        "mydata.info()"
      ],
      "execution_count": null,
      "outputs": [
        {
          "output_type": "stream",
          "name": "stdout",
          "text": [
            "<class 'pandas.core.frame.DataFrame'>\n",
            "RangeIndex: 25 entries, 0 to 24\n",
            "Data columns (total 2 columns):\n",
            " #   Column  Non-Null Count  Dtype  \n",
            "---  ------  --------------  -----  \n",
            " 0   Hours   25 non-null     float64\n",
            " 1   Scores  25 non-null     int64  \n",
            "dtypes: float64(1), int64(1)\n",
            "memory usage: 528.0 bytes\n"
          ]
        }
      ]
    },
    {
      "cell_type": "markdown",
      "metadata": {
        "id": "gUL7mYzcsrtk"
      },
      "source": [
        "# Exploratory Data Analysis (EDA)"
      ]
    },
    {
      "cell_type": "code",
      "metadata": {
        "id": "JpWtXWeykjxX",
        "colab": {
          "base_uri": "https://localhost:8080/",
          "height": 295
        },
        "outputId": "54f14980-edde-4d13-e037-1e34e137d395"
      },
      "source": [
        "mydata.plot.scatter(x='Hours',y='Scores',style='o')\n",
        "plt.title(\"Hours vs Scores\")\n",
        "plt.xlabel('Hours')\n",
        "plt.ylabel('Scores/percentage')\n",
        "plt.show()"
      ],
      "execution_count": null,
      "outputs": [
        {
          "output_type": "display_data",
          "data": {
            "image/png": "[encoded data removed]",
            "text/plain": [
              "<Figure size 432x288 with 1 Axes>"
            ]
          },
          "metadata": {
            "needs_background": "light"
          }
        }
      ]
    },
    {
      "cell_type": "code",
      "metadata": {
        "colab": {
          "base_uri": "https://localhost:8080/",
          "height": 513
        },
        "id": "5vYRUjzCF_-e",
        "outputId": "2e5e13fe-bf17-4432-fd39-02ded40639f5"
      },
      "source": [
        "plt.hist(mydata[\"Hours\"])\n",
        "plt.show()\n",
        "plt.plot(mydata[\"Scores\"])\n",
        "plt.show()"
      ],
      "execution_count": null,
      "outputs": [
        {
          "output_type": "display_data",
          "data": {
            "image/png": "[encoded data removed]",
            "text/plain": [
              "<Figure size 432x288 with 1 Axes>"
            ]
          },
          "metadata": {
            "needs_background": "light"
          }
        },
        {
          "output_type": "display_data",
          "data": {
            "image/png": "[encoded data removed]",
            "text/plain": [
              "<Figure size 432x288 with 1 Axes>"
            ]
          },
          "metadata": {
            "needs_background": "light"
          }
        }
      ]
    },
    {
      "cell_type": "code",
      "metadata": {
        "id": "GzT85nBBfiNj",
        "colab": {
          "base_uri": "https://localhost:8080/",
          "height": 110
        },
        "outputId": "03a03c4e-844a-4e00-9c81-dea19c995f2e"
      },
      "source": [
        "corr=mydata.corr()\n",
        "corr"
      ],
      "execution_count": null,
      "outputs": [
        {
          "output_type": "execute_result",
          "data": {
            "text/html": [
              "<div>\n",
              "<style scoped>\n",
              "    .dataframe tbody tr th:only-of-type {\n",
              "        vertical-align: middle;\n",
              "    }\n",
              "\n",
              "    .dataframe tbody tr th {\n",
              "        vertical-align: top;\n",
              "    }\n",
              "\n",
              "    .dataframe thead th {\n",
              "        text-align: right;\n",
              "    }\n",
              "</style>\n",
              "<table border=\"1\" class=\"dataframe\">\n",
              "  <thead>\n",
              "    <tr style=\"text-align: right;\">\n",
              "      <th></th>\n",
              "      <th>Hours</th>\n",
              "      <th>Scores</th>\n",
              "    </tr>\n",
              "  </thead>\n",
              "  <tbody>\n",
              "    <tr>\n",
              "      <th>Hours</th>\n",
              "      <td>1.000000</td>\n",
              "      <td>0.976191</td>\n",
              "    </tr>\n",
              "    <tr>\n",
              "      <th>Scores</th>\n",
              "      <td>0.976191</td>\n",
              "      <td>1.000000</td>\n",
              "    </tr>\n",
              "  </tbody>\n",
              "</table>\n",
              "</div>"
            ],
            "text/plain": [
              "           Hours    Scores\n",
              "Hours   1.000000  0.976191\n",
              "Scores  0.976191  1.000000"
            ]
          },
          "metadata": {},
          "execution_count": 11
        }
      ]
    },
    {
      "cell_type": "markdown",
      "metadata": {
        "id": "zA6CNfB6eBKz"
      },
      "source": [
        "# Spilting Data for Training and Testing "
      ]
    },
    {
      "cell_type": "code",
      "metadata": {
        "id": "M8IHsIC4E0bx"
      },
      "source": [
        "#prepared data\n",
        "x_train = mydata.iloc[:,:-1]\n",
        "y_train = pd.DataFrame(data = mydata.iloc[:,1].values,columns=['target'])\n",
        "\n",
        "\n"
      ],
      "execution_count": null,
      "outputs": []
    },
    {
      "cell_type": "code",
      "metadata": {
        "id": "eZWw-pm9yo76",
        "colab": {
          "base_uri": "https://localhost:8080/"
        },
        "outputId": "68184bee-6bfe-485c-b05f-0d4d0c98f522"
      },
      "source": [
        "from sklearn.model_selection import train_test_split\n",
        "x_train,x_test,y_train,y_test = train_test_split(x_train,y_train,test_size=0.25,random_state=0)\n",
        "print(y_test)\n",
        "x_train.shape"
      ],
      "execution_count": null,
      "outputs": [
        {
          "output_type": "stream",
          "name": "stdout",
          "text": [
            "    target\n",
            "5       20\n",
            "2       27\n",
            "19      69\n",
            "16      30\n",
            "11      62\n",
            "22      35\n",
            "17      24\n"
          ]
        },
        {
          "output_type": "execute_result",
          "data": {
            "text/plain": [
              "(18, 1)"
            ]
          },
          "metadata": {},
          "execution_count": 13
        }
      ]
    },
    {
      "cell_type": "markdown",
      "metadata": {
        "id": "x440oOUoeKDe"
      },
      "source": [
        "# Training Dataset using Linear Regression Model"
      ]
    },
    {
      "cell_type": "code",
      "metadata": {
        "id": "rwZuFlhG5CVn"
      },
      "source": [
        "from sklearn import metrics\n",
        "def print_error(x_test,y_test,model_name):\n",
        "  prediction = model_name.predict(x_test)\n",
        "  print('mean_absolute_error:',metrics.mean_absolute_error(y_test,prediction))\n",
        "  print('mean_squared_error:',metrics.mean_squared_error(y_test,prediction))\n",
        "  print('root_mean_squared_error:',np.sqrt(metrics.mean_squared_error(y_test,prediction)))\n",
        "  "
      ],
      "execution_count": null,
      "outputs": []
    },
    {
      "cell_type": "code",
      "metadata": {
        "id": "2ibXMC834uT5",
        "colab": {
          "base_uri": "https://localhost:8080/"
        },
        "outputId": "41b8bb60-90d4-42ce-ac24-363d44b04d93"
      },
      "source": [
        "#Linear Regression\n",
        "from sklearn import linear_model \n",
        "linear_regression = linear_model .LinearRegression()\n",
        "linear_regression.fit(x_train,y_train)\n",
        "print_error(x_test,y_test,linear_regression)\n",
        "linear_regression.score(x_train,y_train)"
      ],
      "execution_count": null,
      "outputs": [
        {
          "output_type": "stream",
          "name": "stdout",
          "text": [
            "mean_absolute_error: 4.130879918502482\n",
            "mean_squared_error: 20.33292367497996\n",
            "root_mean_squared_error: 4.509204328368805\n"
          ]
        },
        {
          "output_type": "execute_result",
          "data": {
            "text/plain": [
              "0.9484509249326872"
            ]
          },
          "metadata": {},
          "execution_count": 15
        }
      ]
    },
    {
      "cell_type": "code",
      "metadata": {
        "id": "KxS30cdSKvKe",
        "colab": {
          "base_uri": "https://localhost:8080/"
        },
        "outputId": "05ce920e-9ecc-4ab2-8c79-67aa6e6a86f3"
      },
      "source": [
        "linear_regression.score(x_test,y_test)"
      ],
      "execution_count": null,
      "outputs": [
        {
          "output_type": "execute_result",
          "data": {
            "text/plain": [
              "0.9367661043365056"
            ]
          },
          "metadata": {},
          "execution_count": 16
        }
      ]
    },
    {
      "cell_type": "markdown",
      "metadata": {
        "id": "tnyrnnyEHL35"
      },
      "source": [
        "##Prediction for 9.25 hours/day"
      ]
    },
    {
      "cell_type": "code",
      "metadata": {
        "id": "6ZA0mwycTDt5",
        "colab": {
          "base_uri": "https://localhost:8080/"
        },
        "outputId": "e122a2b3-a537-4333-e0b9-dfcbad444c41"
      },
      "source": [
        "Hours = 9.25\n",
        "Prediction = linear_regression.predict([[Hours]])\n",
        "print(\"Number of Hours:\",format(Hours))\n",
        "print(\"Predicted percentage:\",format(Prediction))"
      ],
      "execution_count": null,
      "outputs": [
        {
          "output_type": "stream",
          "name": "stdout",
          "text": [
            "Number of Hours: 9.25\n",
            "Predicted percentage: [[93.89272889]]\n"
          ]
        }
      ]
    },
    {
      "cell_type": "markdown",
      "metadata": {
        "id": "hC_dQcwwoEXT"
      },
      "source": [
        "##The percentage score for student who will study for 9.2 Hr/Day will be 93.89 "
      ]
    },
    {
      "cell_type": "markdown",
      "metadata": {
        "id": "3F2p87ZXHopd"
      },
      "source": [
        "#Thank you !!"
      ]
    }
  ]
}